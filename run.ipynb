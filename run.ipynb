{
 "cells": [
  {
   "attachments": {},
   "cell_type": "markdown",
   "metadata": {},
   "source": [
    "### Installation"
   ]
  },
  {
   "cell_type": "code",
   "execution_count": null,
   "metadata": {},
   "outputs": [],
   "source": [
    "import os\n",
    "!git clone --branch=main https://github.com/muhd-umer/rl-wireless.git rl-wireless\n",
    "assert os.path.exists('./rl-wireless'), \"No rl-wireless folder found.\"\n",
    "%cd ./rl-wireless\n",
    "\n",
    "!pip install -r requirements.txt"
   ]
  },
  {
   "attachments": {},
   "cell_type": "markdown",
   "metadata": {},
   "source": [
    "### Necessary Imports"
   ]
  },
  {
   "cell_type": "code",
   "execution_count": null,
   "metadata": {},
   "outputs": [],
   "source": [
    "import warnings\n",
    "import numpy as np\n",
    "import gymnasium as gym\n",
    "from network import MassiveMIMOEnv\n",
    "import ray\n",
    "from ray import air, tune\n",
    "from ray.rllib.utils.framework import try_import_torch\n",
    "from ray.tune.registry import get_trainable_cls\n",
    "\n",
    "# disable warnings\n",
    "warnings.filterwarnings(\"ignore\")"
   ]
  },
  {
   "attachments": {},
   "cell_type": "markdown",
   "metadata": {},
   "source": [
    "### Registering the Environment"
   ]
  },
  {
   "cell_type": "code",
   "execution_count": null,
   "metadata": {},
   "outputs": [],
   "source": [
    "# Set the parameters\n",
    "global N, M, K, Ns, asd_degs, min_P, max_P, num_P, num_episodes, dtype, seed\n",
    "N = 7\n",
    "M = 32\n",
    "K = 10\n",
    "Ns = 10\n",
    "asd_degs = [\n",
    "    30,\n",
    "]\n",
    "min_P = -20\n",
    "max_P = 23\n",
    "num_P = 10\n",
    "dtype = np.float32\n",
    "seed = 0\n",
    "\n",
    "# Register and create the environment\n",
    "gym.register(id=\"MassiveMIMO-v0\", entry_point=MassiveMIMOEnv)\n",
    "\n",
    "env = gym.make(\n",
    "    \"MassiveMIMO-v0\",\n",
    "    N=N,\n",
    "    M=M,\n",
    "    K=K,\n",
    "    Ns=Ns,\n",
    "    min_P=min_P,\n",
    "    max_P=max_P,\n",
    "    num_P=num_P,\n",
    "    dtype=dtype,\n",
    ")"
   ]
  },
  {
   "cell_type": "code",
   "execution_count": null,
   "metadata": {},
   "outputs": [],
   "source": [
    "from ray.tune.registry import register_env\n",
    "\n",
    "# register the predefined scenario with RLlib\n",
    "register_env(\"MassiveMIMO-v0\", lambda cfg: env)"
   ]
  },
  {
   "attachments": {},
   "cell_type": "markdown",
   "metadata": {},
   "source": [
    "### Training with PPO Agent"
   ]
  },
  {
   "cell_type": "code",
   "execution_count": null,
   "metadata": {},
   "outputs": [],
   "source": [
    "# init ray with available CPUs (and GPUs)\n",
    "ray.init(\n",
    "    num_cpus=4,\n",
    "    num_gpus=1,\n",
    "    include_dashboard=False,\n",
    "    ignore_reinit_error=True,\n",
    "    log_to_driver=False,\n",
    ")"
   ]
  },
  {
   "cell_type": "code",
   "execution_count": null,
   "metadata": {},
   "outputs": [],
   "source": [
    "config = (\n",
    "    get_trainable_cls(\"PPO\")  # RLlib algorithm to use\n",
    "    .get_default_config()\n",
    "    .environment(\"MassiveMIMO-v0\")\n",
    "    .framework(\"torch\")\n",
    "    .resources(\n",
    "        num_gpus=0.5,\n",
    "        num_gpus_per_worker=0.0,\n",
    "    )\n",
    "    .rollouts(\n",
    "        num_rollout_workers=1,\n",
    "        num_envs_per_worker=1,\n",
    "    )\n",
    "    .training(lr=tune.grid_search([0.005, 0.003, 0.001, 0.0001]))\n",
    ")\n",
    "\n",
    "stop = {\n",
    "    \"timesteps_total\": 100000,\n",
    "}"
   ]
  },
  {
   "cell_type": "code",
   "execution_count": null,
   "metadata": {},
   "outputs": [],
   "source": [
    "results = tune.Tuner(\n",
    "    \"PPO\",\n",
    "    param_space=config.to_dict(),\n",
    "    run_config=air.RunConfig(stop=stop, local_dir=\"./results\"),\n",
    ").fit()"
   ]
  },
  {
   "cell_type": "code",
   "execution_count": null,
   "metadata": {},
   "outputs": [],
   "source": [
    "%tensorboard --logdir results --port 6006"
   ]
  }
 ],
 "metadata": {
  "kernelspec": {
   "display_name": "lcsproj",
   "language": "python",
   "name": "python3"
  },
  "language_info": {
   "codemirror_mode": {
    "name": "ipython",
    "version": 3
   },
   "file_extension": ".py",
   "mimetype": "text/x-python",
   "name": "python",
   "nbconvert_exporter": "python",
   "pygments_lexer": "ipython3",
   "version": "3.9.16"
  },
  "orig_nbformat": 4
 },
 "nbformat": 4,
 "nbformat_minor": 2
}
