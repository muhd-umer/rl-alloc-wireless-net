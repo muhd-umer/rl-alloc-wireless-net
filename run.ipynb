{
 "cells": [
  {
   "attachments": {},
   "cell_type": "markdown",
   "metadata": {},
   "source": [
    "### Installation"
   ]
  },
  {
   "cell_type": "code",
   "execution_count": null,
   "metadata": {},
   "outputs": [],
   "source": [
    "import os\n",
    "!git clone --branch=main https://github.com/muhd-umer/rl-wireless.git .\n",
    "assert os.path.exists('./rl-wireless'), \"No rl-wireless folder found.\"\n",
    "%cd ./rl-wireless\n",
    "\n",
    "%%capture\n",
    "!pip install -r requirements.txt"
   ]
  },
  {
   "attachments": {},
   "cell_type": "markdown",
   "metadata": {},
   "source": [
    "### Necessary Imports"
   ]
  },
  {
   "cell_type": "code",
   "execution_count": null,
   "metadata": {},
   "outputs": [],
   "source": [
    "import os\n",
    "import numpy as np\n",
    "import gymnasium as gym\n",
    "from gymnasium.wrappers.record_episode_statistics import RecordEpisodeStatistics\n",
    "import time\n",
    "\n",
    "os.environ['TUNE_RESULT_DIR'] = './results'"
   ]
  },
  {
   "attachments": {},
   "cell_type": "markdown",
   "metadata": {},
   "source": [
    "### Registering the Environment"
   ]
  },
  {
   "cell_type": "code",
   "execution_count": null,
   "metadata": {},
   "outputs": [],
   "source": [
    "# Set the parameters\n",
    "global N, M, K, Ns, asd_degs, min_P, max_P, num_P, num_episodes, dtype, seed\n",
    "N = 7\n",
    "M = 32\n",
    "K = 10\n",
    "Ns = 10\n",
    "asd_degs = [\n",
    "    30,\n",
    "]\n",
    "min_P = -20\n",
    "max_P = 23\n",
    "num_P = 10\n",
    "dtype = np.float32\n",
    "seed = 0\n",
    "\n",
    "# Register and create the environment\n",
    "gym.register(id=\"MassiveMIMO-v0\", entry_point=\"network:MassiveMIMOEnv\")\n",
    "\n",
    "env = gym.make(\n",
    "    \"MassiveMIMO-v0\",\n",
    "    N=N,\n",
    "    M=M,\n",
    "    K=K,\n",
    "    Ns=Ns,\n",
    "    min_P=min_P,\n",
    "    max_P=max_P,\n",
    "    num_P=num_P,\n",
    "    dtype=dtype,\n",
    ")"
   ]
  },
  {
   "cell_type": "code",
   "execution_count": null,
   "metadata": {},
   "outputs": [],
   "source": [
    "from ray.tune.registry import register_env\n",
    "\n",
    "# register the predefined scenario with RLlib\n",
    "register_env(\"MassiveMIMO-v0\", lambda config: env)"
   ]
  },
  {
   "attachments": {},
   "cell_type": "markdown",
   "metadata": {},
   "source": [
    "### RL with Ray RLlib"
   ]
  },
  {
   "cell_type": "code",
   "execution_count": null,
   "metadata": {},
   "outputs": [],
   "source": [
    "import ray\n",
    "import ray.tune as tune\n",
    "\n",
    "# init ray with available CPUs (and GPUs) and init ray\n",
    "ray.init(\n",
    "    num_cpus=4,  # change to your available number of CPUs\n",
    "    num_gpus=1,  # change to your available number of GPUs\n",
    "    include_dashboard=False,\n",
    "    ignore_reinit_error=True,\n",
    "    log_to_driver=False,\n",
    ")"
   ]
  },
  {
   "cell_type": "code",
   "execution_count": null,
   "metadata": {},
   "outputs": [],
   "source": [
    "from ray.rllib.algorithms.ppo import PPOConfig\n",
    "\n",
    "config = PPOConfig().environment(\"MassiveMIMO-v0\")\n",
    "\n",
    "# train the agent\n",
    "results = tune.run(\n",
    "    \"PPO\",\n",
    "    config=config,\n",
    "    stop={\"timesteps_total\": 100000},\n",
    "    checkpoint_at_end=True,\n",
    "    checkpoint_freq=10,\n",
    "    checkpoint_score_attr=\"episode_reward_mean\",\n",
    "    verbose=1,\n",
    ")"
   ]
  },
  {
   "cell_type": "code",
   "execution_count": null,
   "metadata": {},
   "outputs": [],
   "source": [
    "%tensorboard --logdir results --port 6006"
   ]
  }
 ],
 "metadata": {
  "kernelspec": {
   "display_name": "lcsproj",
   "language": "python",
   "name": "python3"
  },
  "language_info": {
   "codemirror_mode": {
    "name": "ipython",
    "version": 3
   },
   "file_extension": ".py",
   "mimetype": "text/x-python",
   "name": "python",
   "nbconvert_exporter": "python",
   "pygments_lexer": "ipython3",
   "version": "3.9.16"
  },
  "orig_nbformat": 4
 },
 "nbformat": 4,
 "nbformat_minor": 2
}
